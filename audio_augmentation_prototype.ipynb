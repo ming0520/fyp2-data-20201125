{
 "cells": [
  {
   "cell_type": "code",
   "execution_count": 65,
   "metadata": {},
   "outputs": [],
   "source": [
    "#https://github.com/SuperKogito/pydiogment#readme\n",
    "from pydiogment.auga import fade_in_and_out\n",
    "from pydiogment.auga import apply_gain\n",
    "from pydiogment.auga import add_noise\n",
    "from pydiogment.augf import change_tone\n",
    "from pydiogment.augt import slow_down, speed\n",
    "from pydiogment.augt import random_cropping\n",
    "from pydiogment.augt import shift_time\n",
    "#https://pypi.org/project/audiomentations/\n",
    "# from audiomentations import Compose, AddGaussianNoise, TimeStretch, PitchShift, Shift\n",
    "# import numpy as np"
   ]
  },
  {
   "cell_type": "code",
   "execution_count": 71,
   "metadata": {},
   "outputs": [
    {
     "name": "stdout",
     "output_type": "stream",
     "text": [
      "Writing data to ./F_0101_10y4m_1-000015-um\\F_0101_10y4m_1-000015-um_augmented_100_noisy.wav.\n",
      "Writing data to ./F_0101_10y4m_1-000015-um\\F_0101_10y4m_1-000015-um_augmented_fade_in_out.wav.\n",
      "Writing data to ./F_0101_10y4m_1-000015-um\\F_0101_10y4m_1-000015-um_augmented_with_-100_gain.wav.\n",
      "Writing data to ./F_0101_10y4m_1-000015-um\\F_0101_10y4m_1-000015-um_augmented_with_-50_gain.wav.\n",
      "ffmpeg -i ./F_0101_10y4m_1-000015-um/F_0101_10y4m_1-000015-um.wav -filter:a atempo=0.8 ./F_0101_10y4m_1-000015-um/F_0101_10y4m_1-000015-um_augmented_slowed.wav\n",
      "b'' ffmpeg version 4.2 Copyright (c) 2000-2019 the FFmpeg developers\n",
      "  built with gcc 9.1.1 (GCC) 20190807\n",
      "  configuration: --enable-gpl --enable-version3 --enable-sdl2 --enable-fontconfig --enable-gnutls --enable-iconv --enable-libass --enable-libdav1d --enable-libbluray --enable-libfreetype --enable-libmp3lame --enable-libopencore-amrnb --enable-libopencore-amrwb --enable-libopenjpeg --enable-libopus --enable-libshine --enable-libsnappy --enable-libsoxr --enable-libtheora --enable-libtwolame --enable-libvpx --enable-libwavpack --enable-libwebp --enable-libx264 --enable-libx265 --enable-libxml2 --enable-libzimg --enable-lzma --enable-zlib --enable-gmp --enable-libvidstab --enable-libvorbis --enable-libvo-amrwbenc --enable-libmysofa --enable-libspeex --enable-libxvid --enable-libaom --enable-libmfx --enable-amf --enable-ffnvcodec --enable-cuvid --enable-d3d11va --enable-nvenc --enable-nvdec --enable-dxva2 --enable-avisynth --enable-libopenmpt\n",
      "  libavutil      56. 31.100 / 56. 31.100\n",
      "  libavcodec     58. 54.100 / 58. 54.100\n",
      "  libavformat    58. 29.100 / 58. 29.100\n",
      "  libavdevice    58.  8.100 / 58.  8.100\n",
      "  libavfilter     7. 57.100 /  7. 57.100\n",
      "  libswscale      5.  5.100 /  5.  5.100\n",
      "  libswresample   3.  5.100 /  3.  5.100\n",
      "  libpostproc    55.  5.100 / 55.  5.100\n",
      "Guessed Channel Layout for Input Stream #0.0 : mono\n",
      "Input #0, wav, from './F_0101_10y4m_1-000015-um/F_0101_10y4m_1-000015-um.wav':\n",
      "  Duration: 00:00:00.40, bitrate: 320 kb/s\n",
      "    Stream #0:0: Audio: pcm_s16le ([1][0][0][0] / 0x0001), 20000 Hz, mono, s16, 320 kb/s\n",
      "File './F_0101_10y4m_1-000015-um/F_0101_10y4m_1-000015-um_augmented_slowed.wav' already exists. Overwrite ? [y/N] Not overwriting - exiting\n",
      "\n",
      "Writing data to ./F_0101_10y4m_1-000015-um/F_0101_10y4m_1-000015-um_augmented_slowed.wav.\n",
      "Writing data to ./F_0101_10y4m_1-000015-um/F_0101_10y4m_1-000015-um_augmented_speeded.wav.\n",
      "Writing data to ./F_0101_10y4m_1-000015-um\\F_0101_10y4m_1-000015-um_augmented_right_0.05_shifted.wav.\n",
      "Writing data to ./F_0101_10y4m_1-000015-um\\F_0101_10y4m_1-000015-um_augmented_left_0.05_shifted.wav.\n"
     ]
    }
   ],
   "source": [
    "test_file = \"./F_0101_10y4m_1-000015-um/F_0101_10y4m_1-000015-um.wav\"\n",
    "\n",
    "# add_noise(test_file, 100)\n",
    "\n",
    "fade_in_and_out(test_file)\n",
    "\n",
    "apply_gain(test_file, -100)\n",
    "apply_gain(test_file, -50)\n",
    "\n",
    "change_tone(test_file, 0.9)\n",
    "change_tone(test_file, 1.1)\n",
    "\n",
    "slow_down(test_file, 0.8)\n",
    "speed(test_file, 1.2)\n",
    "\n",
    "shift_time(test_file, 0.05, \"right\")\n",
    "shift_time(test_file, 0.05, \"left\")\n",
    "# shift_time(test_file, 0.15, \"right\")\n",
    "# shift_time(test_file, 0.15, \"left\")"
   ]
  },
  {
   "cell_type": "code",
   "execution_count": null,
   "metadata": {},
   "outputs": [],
   "source": [
    "import numpy as np\n",
    "import matplotlib.pyplot as plt\n",
    "\n",
    "import librosa\n",
    "import librosa.display"
   ]
  },
  {
   "cell_type": "code",
   "execution_count": null,
   "metadata": {},
   "outputs": [],
   "source": [
    "import numpy as np # linear algebra\n",
    "import pandas as pd # data processing, CSV file I/O (e.g. pd.read_csv)\n",
    "import librosa\n",
    "import matplotlib.pyplot as plt\n",
    "import os\n",
    "import cv2\n",
    "import IPython.display as ipd"
   ]
  },
  {
   "cell_type": "code",
   "execution_count": null,
   "metadata": {},
   "outputs": [],
   "source": [
    "import os"
   ]
  },
  {
   "cell_type": "code",
   "execution_count": null,
   "metadata": {},
   "outputs": [],
   "source": [
    "from glob import glob"
   ]
  },
  {
   "cell_type": "code",
   "execution_count": null,
   "metadata": {},
   "outputs": [],
   "source": [
    "#!!! Important Reference\n",
    "#https://heartbeat.fritz.ai/working-with-audio-signals-in-python-6c2bd63b2daf\n",
    "#https://heartbeat.fritz.ai/working-with-audio-signals-in-python-6c2bd63b2daf"
   ]
  },
  {
   "cell_type": "code",
   "execution_count": null,
   "metadata": {},
   "outputs": [],
   "source": [
    "def get_spectrogram(wav):\n",
    "    y, sr = librosa.load(wav)\n",
    "    D = librosa.stft(y, n_fft=480, hop_length=160,\n",
    "                     win_length=480, window='hamming')\n",
    "    spect, phase = librosa.magphase(D)\n",
    "    return spect"
   ]
  },
  {
   "cell_type": "code",
   "execution_count": null,
   "metadata": {},
   "outputs": [],
   "source": [
    "def plot_spectrogram(file, save=False):\n",
    "    log_spect = np.log(get_spectrogram(file))\n",
    "    print('spectrogram shape:', log_spect.shape)\n",
    "    plt.imshow(log_spect, aspect='auto', origin='lower',)\n",
    "    plt.title(file)\n",
    "    if save:\n",
    "        file_name = file.split('.wav')[0]\n",
    "#         if not os.path.exists('melspectrogram'):\n",
    "#             os.mkdir('melspectrogram')\n",
    "        plt.savefig(f'{file_name}_spectrogram.png')\n",
    "    plt.show()"
   ]
  },
  {
   "cell_type": "code",
   "execution_count": null,
   "metadata": {},
   "outputs": [],
   "source": [
    "def plot_melspectrogram(file,save=False):\n",
    "    y, sr = librosa.load(file)\n",
    "    librosa.feature.melspectrogram(y=y, sr=sr)\n",
    "    D = np.abs(librosa.stft(y))**2\n",
    "    S = librosa.feature.melspectrogram(S=D)\n",
    "    S = librosa.feature.melspectrogram(y=y, sr=sr, n_mels=128,fmax=8000)\n",
    "    plt.figure(figsize=(10, 4))\n",
    "    librosa.display.specshow(librosa.power_to_db(S,ref=np.max),\n",
    "                             y_axis='mel',x_axis='time',fmax=8000)\n",
    "    plt.colorbar(format='%+2.0f dB')\n",
    "    plt.title(file)\n",
    "    plt.tight_layout()\n",
    "    if save:\n",
    "        file_name = file.split('.wav')[0]\n",
    "        plt.savefig(f'{file_name}_melspectrogram.png')"
   ]
  },
  {
   "cell_type": "code",
   "execution_count": null,
   "metadata": {},
   "outputs": [],
   "source": [
    "def plot_orimelspec(file,save=False):\n",
    "    #x: numpy array\n",
    "    x, sr = librosa.load(file)\n",
    "    X = librosa.stft(x)\n",
    "    #converting into energy levels(dB)\n",
    "    Xdb = librosa.amplitude_to_db(abs(X))\n",
    "\n",
    "    plt.figure(figsize=(20, 5))\n",
    "    librosa.display.specshow(Xdb, sr=sr, x_axis='time', y_axis='hz')\n",
    "    plt.colorbar(format='%+2.0f dB')\n",
    "    plt.title(file)\n",
    "    if save:\n",
    "        file_name = file.split('.wav')[0]\n",
    "    plt.savefig(f'{file_name}_orimelspec.png')\n",
    "    plt.show()"
   ]
  },
  {
   "cell_type": "code",
   "execution_count": null,
   "metadata": {},
   "outputs": [],
   "source": [
    "def plot_wave(file, save=False):\n",
    "    x, sr = librosa.load(file)\n",
    "    plt.figure(figsize=(14, 5))\n",
    "    #plotting the sampled signal\n",
    "    librosa.display.waveplot(x, sr=sr)\n",
    "    plt.title(file)\n",
    "    if save:\n",
    "        file_name = file.split('.wav')[0]\n",
    "    plt.savefig(f'{file_name}_waveplot.png')\n",
    "#     plt.show()"
   ]
  },
  {
   "cell_type": "code",
   "execution_count": null,
   "metadata": {},
   "outputs": [],
   "source": [
    "for file in files:\n",
    "    print('File name',file)\n",
    "    y, sr = librosa.load(file)\n",
    "    D = librosa.stft(y)  # STFT of y\n",
    "    S_db = librosa.amplitude_to_db(np.abs(D), ref=np.max)\n",
    "    fig, ax = plt.subplots()\n",
    "    img = librosa.display.specshow(S_db, cmap='gray_r', y_axis='log', x_axis='time', ax=ax)\n",
    "    ax.set(title=file)\n",
    "    fig.colorbar(img, ax=ax, format=\"%+2.f dB\")"
   ]
  },
  {
   "cell_type": "code",
   "execution_count": null,
   "metadata": {},
   "outputs": [],
   "source": [
    "for file in files:\n",
    "    plot_spectrogram(file,save=True)"
   ]
  },
  {
   "cell_type": "code",
   "execution_count": null,
   "metadata": {
    "scrolled": false
   },
   "outputs": [],
   "source": [
    "files = []\n",
    "files = glob('./F_0101_10y4m_1-000015-um/*.wav')\n",
    "# for file in files:\n",
    "#     print(file)\n",
    "for file in files:\n",
    "    plot_melspectrogram(file,True)\n",
    "    plot_orimelspec(file,True)\n",
    "    plot_wave(file,True)"
   ]
  },
  {
   "cell_type": "code",
   "execution_count": 23,
   "metadata": {},
   "outputs": [],
   "source": [
    "from pptx import Presentation\n",
    "from pptx.util import Inches\n",
    "from glob import glob"
   ]
  },
  {
   "cell_type": "code",
   "execution_count": 5,
   "metadata": {},
   "outputs": [],
   "source": [
    "prs = Presentation()"
   ]
  },
  {
   "cell_type": "code",
   "execution_count": 8,
   "metadata": {},
   "outputs": [],
   "source": [
    "img_path = './F_0101_10y4m_1-000015-um/spec/F_0101_10y4m_1-000015-um_augmented_0.9_toned_spectrogram.png'"
   ]
  },
  {
   "cell_type": "code",
   "execution_count": 9,
   "metadata": {},
   "outputs": [],
   "source": [
    "blank_slide_layout = prs.slide_layouts[6]"
   ]
  },
  {
   "cell_type": "code",
   "execution_count": 10,
   "metadata": {},
   "outputs": [],
   "source": [
    "slide = prs.slides.add_slide(blank_slide_layout)"
   ]
  },
  {
   "cell_type": "code",
   "execution_count": 13,
   "metadata": {},
   "outputs": [],
   "source": [
    "left = top = Inches(1)"
   ]
  },
  {
   "cell_type": "code",
   "execution_count": 15,
   "metadata": {},
   "outputs": [],
   "source": [
    "pic = slide.shapes.add_picture(img_path,left,top)\n",
    "prs.save('test.pptx')"
   ]
  },
  {
   "cell_type": "code",
   "execution_count": 58,
   "metadata": {},
   "outputs": [],
   "source": [
    "#https://www.geeksforgeeks.org/creating-and-updating-powerpoint-presentations-in-python-using-python-pptx/\n",
    "#https://python-pptx.readthedocs.io/en/latest/index.html\n",
    "#https://www.geeksforgeeks.org/creating-and-updating-powerpoint-presentations-in-python-using-python-pptx/\n",
    "def generate_presentation(folder,output):\n",
    "    files = glob(f'{folder}/*.png')\n",
    "    prs = Presentation()\n",
    "    count = 0\n",
    "    for file in files:\n",
    "        print(file)\n",
    "        blank_slide_layout = prs.slide_layouts[6]\n",
    "        slides = prs.slides.add_slide(blank_slide_layout)\n",
    "        left = top = Inches(1)\n",
    "        pic = slides.shapes.add_picture(file,0,top,width=Inches(10))\n",
    "        count = count + 1\n",
    "    prs.save(f'{output}')"
   ]
  },
  {
   "cell_type": "code",
   "execution_count": 63,
   "metadata": {},
   "outputs": [
    {
     "name": "stdout",
     "output_type": "stream",
     "text": [
      "./F_0101_10y4m_1-000015-um/wav\\F_0101_10y4m_1-000015-um_augmented_0.9_toned_waveplot.png\n",
      "./F_0101_10y4m_1-000015-um/wav\\F_0101_10y4m_1-000015-um_augmented_1.1_toned_waveplot.png\n",
      "./F_0101_10y4m_1-000015-um/wav\\F_0101_10y4m_1-000015-um_augmented_fade_in_out_waveplot.png\n",
      "./F_0101_10y4m_1-000015-um/wav\\F_0101_10y4m_1-000015-um_augmented_left_0.05_shifted_waveplot.png\n",
      "./F_0101_10y4m_1-000015-um/wav\\F_0101_10y4m_1-000015-um_augmented_left_0.15_shifted_waveplot.png\n",
      "./F_0101_10y4m_1-000015-um/wav\\F_0101_10y4m_1-000015-um_augmented_left_1_shifted_waveplot.png\n",
      "./F_0101_10y4m_1-000015-um/wav\\F_0101_10y4m_1-000015-um_augmented_right_0.05_shifted_waveplot.png\n",
      "./F_0101_10y4m_1-000015-um/wav\\F_0101_10y4m_1-000015-um_augmented_right_0.15_shifted_waveplot.png\n",
      "./F_0101_10y4m_1-000015-um/wav\\F_0101_10y4m_1-000015-um_augmented_right_1_shifted_waveplot.png\n",
      "./F_0101_10y4m_1-000015-um/wav\\F_0101_10y4m_1-000015-um_augmented_slowed_waveplot.png\n",
      "./F_0101_10y4m_1-000015-um/wav\\F_0101_10y4m_1-000015-um_augmented_speeded_waveplot.png\n",
      "./F_0101_10y4m_1-000015-um/wav\\F_0101_10y4m_1-000015-um_augmented_with_-100_gain_waveplot.png\n",
      "./F_0101_10y4m_1-000015-um/wav\\F_0101_10y4m_1-000015-um_augmented_with_-50_gain_waveplot.png\n",
      "./F_0101_10y4m_1-000015-um/wav\\F_0101_10y4m_1-000015-um_waveplot.png\n"
     ]
    }
   ],
   "source": [
    "generate_presentation('./F_0101_10y4m_1-000015-um/wav','waveplot.pptx')"
   ]
  }
 ],
 "metadata": {
  "kernelspec": {
   "display_name": "Python [conda env:autoedit]",
   "language": "python",
   "name": "conda-env-autoedit-py"
  },
  "language_info": {
   "codemirror_mode": {
    "name": "ipython",
    "version": 3
   },
   "file_extension": ".py",
   "mimetype": "text/x-python",
   "name": "python",
   "nbconvert_exporter": "python",
   "pygments_lexer": "ipython3",
   "version": "3.8.3"
  }
 },
 "nbformat": 4,
 "nbformat_minor": 4
}
