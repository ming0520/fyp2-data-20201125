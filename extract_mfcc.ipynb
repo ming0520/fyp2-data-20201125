{
 "cells": [
  {
   "cell_type": "code",
   "execution_count": 28,
   "metadata": {},
   "outputs": [],
   "source": [
    "from IPython.display import Audio\n",
    "\n",
    "import librosa\n",
    "import glob\n",
    "import librosa.display\n",
    "import numpy as np\n",
    "\n",
    "import matplotlib.pyplot as plt"
   ]
  },
  {
   "cell_type": "code",
   "execution_count": 29,
   "metadata": {},
   "outputs": [],
   "source": [
    "#Data Augmentation\n",
    "# https://medium.com/@keur.plkar/audio-data-augmentation-in-python-a91600613e47\n",
    "# https://gist.github.com/keyurparalkar/5a49f696ed36ddce6526ab50e29e04ce\n",
    "# https://pypi.org/project/audiomentations/\n",
    "# https://www.kaggle.com/CVxTz/audio-data-augmentation\n",
    "# https://www.kaggle.com/haqishen/augmentation-methods-for-audio\n",
    "# https://www.tensorflow.org/io/tutorials/audio"
   ]
  },
  {
   "cell_type": "code",
   "execution_count": 32,
   "metadata": {},
   "outputs": [],
   "source": [
    "DATA_PATH = f'20201126-all-clean-augmented'\n",
    "NORMAL_AUDIOS = glob.glob(f'./{DATA_PATH}/success/*.wav')\n",
    "STUTTERED_AUDIOS = glob.glob(f'./{DATA_PATH}/stuttered/*.wav')\n",
    "failed_list = []\n",
    "# print(NORMAL_AUDIOS)\n",
    "# print(STUTTERED_AUDIOS)"
   ]
  },
  {
   "cell_type": "code",
   "execution_count": 34,
   "metadata": {},
   "outputs": [
    {
     "name": "stdout",
     "output_type": "stream",
     "text": [
      "3492\n",
      "3420\n",
      "M_0098_10y6m_1-000132-unk_augmented_0.9_toned\n",
      "F_0101_13y1m_1-000089-this\n"
     ]
    }
   ],
   "source": [
    "print(len(NORMAL_AUDIOS))\n",
    "print(len(STUTTERED_AUDIOS))\n",
    "print(STUTTERED_AUDIOS[2141].split('\\\\')[1].split('.wav')[0])\n",
    "print(NORMAL_AUDIOS[100].split('\\\\')[1].split('.wav')[0])"
   ]
  },
  {
   "cell_type": "code",
   "execution_count": 44,
   "metadata": {},
   "outputs": [],
   "source": [
    "class FeatureExtraction:\n",
    "    def __init__(self, n_mels=128):\n",
    "        self.n_mels = n_mels\n",
    "        self.y = None\n",
    "        self.sr = None\n",
    "        self.S = None\n",
    "        self.log_S = None\n",
    "        self.mfcc = None\n",
    "        self.delta_mfcc = None\n",
    "        self.delta2_mfcc = None\n",
    "        self.M = None\n",
    "        self.rmse = None\n",
    "        self.filename = None\n",
    "    \n",
    "    def loadFile(self, filename):\n",
    "        self.filename=filename\n",
    "        self.y, self.sr = librosa.load(filename)\n",
    "#         logger.debug('File loaded: %s', filename)\n",
    "    \n",
    "    def load_y_sr(self, y, sr):\n",
    "        self.y = y\n",
    "        self.sr = sr\n",
    "    \n",
    "    def melspectrogram(self):\n",
    "        self.S = librosa.feature.melspectrogram(self.y, sr=self.sr, n_mels=self.n_mels)\n",
    "        self.log_S = librosa.amplitude_to_db(self.S)\n",
    "    \n",
    "    def plotmelspectrogram(self):\n",
    "        plt.figure(figsize=(12, 4))\n",
    "        librosa.display.specshow(self.log_S, sr=self.sr, x_axis='time', y_axis='mel')\n",
    "        plt.title(f'mel Power Spectrogram ({self.filename})')\n",
    "        plt.colorbar(format='%+02.0f dB')\n",
    "        plt.tight_layout()\n",
    "    \n",
    "    def extractmfcc(self, n_mfcc=13):\n",
    "        self.mfcc = librosa.feature.mfcc(S=self.log_S, n_mfcc=n_mfcc)\n",
    "        self.delta_mfcc = librosa.feature.delta(self.mfcc,mode='nearest')\n",
    "        self.delta2_mfcc = librosa.feature.delta(self.mfcc, order=2,mode='nearest')\n",
    "        self.M = np.vstack([self.mfcc, self.delta_mfcc, self.delta2_mfcc])\n",
    "    \n",
    "    def plotmfcc(self):\n",
    "        plt.figure(figsize=(12, 6))\n",
    "        plt.subplot(3, 1, 1)\n",
    "        librosa.display.specshow(self.mfcc)\n",
    "        plt.title(f'mel Power Spectrogram ({self.filename})')\n",
    "        plt.ylabel('MFCC')\n",
    "        plt.colorbar()\n",
    "        \n",
    "        plt.subplot(3, 1, 2)\n",
    "        librosa.display.specshow(self.delta_mfcc)\n",
    "        plt.title(f'mel Power Spectrogram ({self.filename})')\n",
    "        plt.ylabel('MFCC-$\\Delta$')\n",
    "        plt.colorbar()\n",
    "        \n",
    "        plt.subplot(3, 1, 3)\n",
    "        librosa.display.specshow(self.delta2_mfcc, sr=self.sr, x_axis='time')\n",
    "        plt.title(f'mel Power Spectrogram ({self.filename})')\n",
    "        plt.ylabel('MFCC-$\\Delta^2$')\n",
    "        plt.colorbar()\n",
    "        \n",
    "        plt.tight_layout()\n",
    "    \n",
    "    def extractrmse(self):\n",
    "        self.rmse = librosa.feature.rmse(y=self.y)"
   ]
  },
  {
   "cell_type": "code",
   "execution_count": 45,
   "metadata": {},
   "outputs": [],
   "source": [
    "mfcc_objects = []"
   ]
  },
  {
   "cell_type": "code",
   "execution_count": 46,
   "metadata": {},
   "outputs": [],
   "source": [
    "for audio in STUTTERED_AUDIOS:\n",
    "  mfcc_object = FeatureExtraction()\n",
    "  mfcc_object.loadFile(f'{audio}')\n",
    "  mfcc_objects.append(mfcc_object)"
   ]
  },
  {
   "cell_type": "code",
   "execution_count": null,
   "metadata": {},
   "outputs": [],
   "source": [
    "limit = 5\n",
    "counter = 0\n",
    "for mfcc_object in mfcc_objects:\n",
    "  if counter == 10:\n",
    "    break\n",
    "  mfcc_object.melspectrogram()\n",
    "  mfcc_object.plotmelspectrogram()\n",
    "  mfcc_object.extractmfcc()\n",
    "  mfcc_object.plotmfcc()\n",
    "  Audio(mfcc_object.filename)"
   ]
  }
 ],
 "metadata": {
  "kernelspec": {
   "display_name": "Python [conda env:autoedit]",
   "language": "python",
   "name": "conda-env-autoedit-py"
  },
  "language_info": {
   "codemirror_mode": {
    "name": "ipython",
    "version": 3
   },
   "file_extension": ".py",
   "mimetype": "text/x-python",
   "name": "python",
   "nbconvert_exporter": "python",
   "pygments_lexer": "ipython3",
   "version": "3.8.3"
  }
 },
 "nbformat": 4,
 "nbformat_minor": 4
}
